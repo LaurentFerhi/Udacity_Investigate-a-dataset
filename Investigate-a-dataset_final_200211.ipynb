{
 "cells": [
  {
   "cell_type": "markdown",
   "metadata": {},
   "source": [
    "# Project: Investigate a Dataset (TMDB movies dataset)\n",
    "\n",
    "## Table of Contents\n",
    "<ul>\n",
    "<li><a href=\"#intro\">Introduction</a></li>\n",
    "<li><a href=\"#wrangling\">Data Wrangling</a></li>\n",
    "<li><a href=\"#eda\">Exploratory Data Analysis</a></li>\n",
    "<li><a href=\"#conclusions\">Conclusions</a></li>\n",
    "</ul>"
   ]
  },
  {
   "cell_type": "markdown",
   "metadata": {},
   "source": [
    "<a id='intro'></a>\n",
    "## Introduction\n",
    "\n",
    "I chose to investigate the TMBD movie dataset. This dataset contains information related to arround 10,000 movies collected from \"The Movie Database\" (TMDb). It includes information about movie's budget, revenue, viewer's rating, genre, companies, casting etc...\n",
    "\n",
    "This dataset can help to understand what are the factors contributing to the profitability (revenue - budget) of a movie. I chose to focus on the profitability as the main dependent variable.\n",
    "\n",
    "### Questions \n",
    "\n",
    "<li><a href=\"#Q1\">1. What are the most and the least profitable movies ?</a></li>\n",
    "<li><a href=\"#Q2\">2. What is the distribution of all movies profits ?</a></li>\n",
    "<li><a href=\"#Q3\">3. Are the most profitable movies also the better rated ?</a></li>\n",
    "<li><a href=\"#Q4\">4. During which months are the most profitable movies released ?</a></li>\n",
    "<li><a href=\"#Q5\">5. What are the genres that generated the most profits ?</a></li>\n",
    "<li><a href=\"#Q6\">6. Is there is a correlation between profit and number of movies for each genre ?</a></li>\n",
    "<li><a href=\"#Q7\">7. What are the casts, directors and production companies which have generated the most profits ?</a></li>"
   ]
  },
  {
   "cell_type": "code",
   "execution_count": 41,
   "metadata": {},
   "outputs": [],
   "source": [
    "# Importing the libraries\n",
    "import numpy as np\n",
    "import pandas as pd\n",
    "import matplotlib.pyplot as plt\n",
    "import seaborn as sns\n",
    "import datetime as dt \n",
    "\n",
    "%matplotlib inline\n",
    "\n",
    "# Style and size of graph\n",
    "sns.set_style('darkgrid')\n",
    "sns.set(rc={'figure.figsize':(10,8)})"
   ]
  },
  {
   "cell_type": "markdown",
   "metadata": {},
   "source": [
    "<a id='wrangling'></a>\n",
    "## Data Wrangling \n",
    "\n",
    "During this step, we are going to import the csv file and display its main information. We will perform the following steps:\n",
    "\n",
    "- Display the info of the dataset (number of rows and columns, data types and format...).\n",
    "- Check number of 0 values and NaN.\n",
    "- Check duplicated rows.\n",
    "- Check the description of numerical data.\n",
    "- Search for outliers.\n",
    "\n",
    "### General Properties\n",
    "\n",
    "First, let's read the .csv and import it in a Pandas DataFrame. Then we can display the 5 first rows:"
   ]
  },
  {
   "cell_type": "code",
   "execution_count": 42,
   "metadata": {},
   "outputs": [
    {
     "data": {
      "text/html": [
       "<div>\n",
       "<style scoped>\n",
       "    .dataframe tbody tr th:only-of-type {\n",
       "        vertical-align: middle;\n",
       "    }\n",
       "\n",
       "    .dataframe tbody tr th {\n",
       "        vertical-align: top;\n",
       "    }\n",
       "\n",
       "    .dataframe thead th {\n",
       "        text-align: right;\n",
       "    }\n",
       "</style>\n",
       "<table border=\"1\" class=\"dataframe\">\n",
       "  <thead>\n",
       "    <tr style=\"text-align: right;\">\n",
       "      <th></th>\n",
       "      <th>id</th>\n",
       "      <th>imdb_id</th>\n",
       "      <th>popularity</th>\n",
       "      <th>budget</th>\n",
       "      <th>revenue</th>\n",
       "      <th>original_title</th>\n",
       "      <th>cast</th>\n",
       "      <th>homepage</th>\n",
       "      <th>director</th>\n",
       "      <th>tagline</th>\n",
       "      <th>...</th>\n",
       "      <th>overview</th>\n",
       "      <th>runtime</th>\n",
       "      <th>genres</th>\n",
       "      <th>production_companies</th>\n",
       "      <th>release_date</th>\n",
       "      <th>vote_count</th>\n",
       "      <th>vote_average</th>\n",
       "      <th>release_year</th>\n",
       "      <th>budget_adj</th>\n",
       "      <th>revenue_adj</th>\n",
       "    </tr>\n",
       "  </thead>\n",
       "  <tbody>\n",
       "    <tr>\n",
       "      <th>0</th>\n",
       "      <td>135397</td>\n",
       "      <td>tt0369610</td>\n",
       "      <td>32.985763</td>\n",
       "      <td>150000000</td>\n",
       "      <td>1513528810</td>\n",
       "      <td>Jurassic World</td>\n",
       "      <td>Chris Pratt|Bryce Dallas Howard|Irrfan Khan|Vi...</td>\n",
       "      <td>http://www.jurassicworld.com/</td>\n",
       "      <td>Colin Trevorrow</td>\n",
       "      <td>The park is open.</td>\n",
       "      <td>...</td>\n",
       "      <td>Twenty-two years after the events of Jurassic ...</td>\n",
       "      <td>124</td>\n",
       "      <td>Action|Adventure|Science Fiction|Thriller</td>\n",
       "      <td>Universal Studios|Amblin Entertainment|Legenda...</td>\n",
       "      <td>6/9/15</td>\n",
       "      <td>5562</td>\n",
       "      <td>6.5</td>\n",
       "      <td>2015</td>\n",
       "      <td>1.379999e+08</td>\n",
       "      <td>1.392446e+09</td>\n",
       "    </tr>\n",
       "    <tr>\n",
       "      <th>1</th>\n",
       "      <td>76341</td>\n",
       "      <td>tt1392190</td>\n",
       "      <td>28.419936</td>\n",
       "      <td>150000000</td>\n",
       "      <td>378436354</td>\n",
       "      <td>Mad Max: Fury Road</td>\n",
       "      <td>Tom Hardy|Charlize Theron|Hugh Keays-Byrne|Nic...</td>\n",
       "      <td>http://www.madmaxmovie.com/</td>\n",
       "      <td>George Miller</td>\n",
       "      <td>What a Lovely Day.</td>\n",
       "      <td>...</td>\n",
       "      <td>An apocalyptic story set in the furthest reach...</td>\n",
       "      <td>120</td>\n",
       "      <td>Action|Adventure|Science Fiction|Thriller</td>\n",
       "      <td>Village Roadshow Pictures|Kennedy Miller Produ...</td>\n",
       "      <td>5/13/15</td>\n",
       "      <td>6185</td>\n",
       "      <td>7.1</td>\n",
       "      <td>2015</td>\n",
       "      <td>1.379999e+08</td>\n",
       "      <td>3.481613e+08</td>\n",
       "    </tr>\n",
       "    <tr>\n",
       "      <th>2</th>\n",
       "      <td>262500</td>\n",
       "      <td>tt2908446</td>\n",
       "      <td>13.112507</td>\n",
       "      <td>110000000</td>\n",
       "      <td>295238201</td>\n",
       "      <td>Insurgent</td>\n",
       "      <td>Shailene Woodley|Theo James|Kate Winslet|Ansel...</td>\n",
       "      <td>http://www.thedivergentseries.movie/#insurgent</td>\n",
       "      <td>Robert Schwentke</td>\n",
       "      <td>One Choice Can Destroy You</td>\n",
       "      <td>...</td>\n",
       "      <td>Beatrice Prior must confront her inner demons ...</td>\n",
       "      <td>119</td>\n",
       "      <td>Adventure|Science Fiction|Thriller</td>\n",
       "      <td>Summit Entertainment|Mandeville Films|Red Wago...</td>\n",
       "      <td>3/18/15</td>\n",
       "      <td>2480</td>\n",
       "      <td>6.3</td>\n",
       "      <td>2015</td>\n",
       "      <td>1.012000e+08</td>\n",
       "      <td>2.716190e+08</td>\n",
       "    </tr>\n",
       "  </tbody>\n",
       "</table>\n",
       "<p>3 rows × 21 columns</p>\n",
       "</div>"
      ],
      "text/plain": [
       "       id    imdb_id  popularity     budget     revenue      original_title  \\\n",
       "0  135397  tt0369610   32.985763  150000000  1513528810      Jurassic World   \n",
       "1   76341  tt1392190   28.419936  150000000   378436354  Mad Max: Fury Road   \n",
       "2  262500  tt2908446   13.112507  110000000   295238201           Insurgent   \n",
       "\n",
       "                                                cast  \\\n",
       "0  Chris Pratt|Bryce Dallas Howard|Irrfan Khan|Vi...   \n",
       "1  Tom Hardy|Charlize Theron|Hugh Keays-Byrne|Nic...   \n",
       "2  Shailene Woodley|Theo James|Kate Winslet|Ansel...   \n",
       "\n",
       "                                         homepage          director  \\\n",
       "0                   http://www.jurassicworld.com/   Colin Trevorrow   \n",
       "1                     http://www.madmaxmovie.com/     George Miller   \n",
       "2  http://www.thedivergentseries.movie/#insurgent  Robert Schwentke   \n",
       "\n",
       "                      tagline  ...  \\\n",
       "0           The park is open.  ...   \n",
       "1          What a Lovely Day.  ...   \n",
       "2  One Choice Can Destroy You  ...   \n",
       "\n",
       "                                            overview runtime  \\\n",
       "0  Twenty-two years after the events of Jurassic ...     124   \n",
       "1  An apocalyptic story set in the furthest reach...     120   \n",
       "2  Beatrice Prior must confront her inner demons ...     119   \n",
       "\n",
       "                                      genres  \\\n",
       "0  Action|Adventure|Science Fiction|Thriller   \n",
       "1  Action|Adventure|Science Fiction|Thriller   \n",
       "2         Adventure|Science Fiction|Thriller   \n",
       "\n",
       "                                production_companies release_date vote_count  \\\n",
       "0  Universal Studios|Amblin Entertainment|Legenda...       6/9/15       5562   \n",
       "1  Village Roadshow Pictures|Kennedy Miller Produ...      5/13/15       6185   \n",
       "2  Summit Entertainment|Mandeville Films|Red Wago...      3/18/15       2480   \n",
       "\n",
       "   vote_average  release_year    budget_adj   revenue_adj  \n",
       "0           6.5          2015  1.379999e+08  1.392446e+09  \n",
       "1           7.1          2015  1.379999e+08  3.481613e+08  \n",
       "2           6.3          2015  1.012000e+08  2.716190e+08  \n",
       "\n",
       "[3 rows x 21 columns]"
      ]
     },
     "execution_count": 42,
     "metadata": {},
     "output_type": "execute_result"
    }
   ],
   "source": [
    "# Reading the csv file and importing it to a dataframe\n",
    "df = pd.read_csv('tmdb-movies.csv')\n",
    "# Displaying first rows\n",
    "df.head(3)"
   ]
  },
  {
   "cell_type": "markdown",
   "metadata": {},
   "source": [
    "We can make several observations:\n",
    "\n",
    "- The \"cast\", \"director\", \"genres\" and \"production companies\" format are made of several names separated by \"|\". The data handling would be easier by transforming this format into lists.\n",
    "- The columns \"imdb_id\", \"homepage\", \"tagline\", \"overview\" and \"keywords\" are not relevant for this analysis, we can remove them.\n",
    "- The \"id\" columns could be removed if there are no identical names for 2 or more movies (to be checked)\n",
    "- The budget_adj and revenue_adj are displayed in scientific format. As we can assume that these number are in USD, they will be easier to read in a standard format.\n",
    "- As we are comparing movies from different periods, we should keep the adjusted budgets and revenues to account for the inflation over years.\n",
    "\n",
    "Now we can get some information about this dataset:"
   ]
  },
  {
   "cell_type": "code",
   "execution_count": 43,
   "metadata": {},
   "outputs": [
    {
     "name": "stdout",
     "output_type": "stream",
     "text": [
      "<class 'pandas.core.frame.DataFrame'>\n",
      "RangeIndex: 10866 entries, 0 to 10865\n",
      "Data columns (total 21 columns):\n",
      "id                      10866 non-null int64\n",
      "imdb_id                 10856 non-null object\n",
      "popularity              10866 non-null float64\n",
      "budget                  10866 non-null int64\n",
      "revenue                 10866 non-null int64\n",
      "original_title          10866 non-null object\n",
      "cast                    10790 non-null object\n",
      "homepage                2936 non-null object\n",
      "director                10822 non-null object\n",
      "tagline                 8042 non-null object\n",
      "keywords                9373 non-null object\n",
      "overview                10862 non-null object\n",
      "runtime                 10866 non-null int64\n",
      "genres                  10843 non-null object\n",
      "production_companies    9836 non-null object\n",
      "release_date            10866 non-null object\n",
      "vote_count              10866 non-null int64\n",
      "vote_average            10866 non-null float64\n",
      "release_year            10866 non-null int64\n",
      "budget_adj              10866 non-null float64\n",
      "revenue_adj             10866 non-null float64\n",
      "dtypes: float64(4), int64(6), object(11)\n",
      "memory usage: 1.7+ MB\n"
     ]
    }
   ],
   "source": [
    "# Displaying the shape of the dataframe, the number of elements per column and the data types\n",
    "df.info()"
   ]
  },
  {
   "cell_type": "markdown",
   "metadata": {},
   "source": [
    "Some columns have a significant number of missings but fortunately, these are mainly the ones we are going to drop.   \n",
    "Now we can display the number of zeroes in the different columns:"
   ]
  },
  {
   "cell_type": "code",
   "execution_count": 44,
   "metadata": {},
   "outputs": [
    {
     "data": {
      "text/plain": [
       "id                         0\n",
       "imdb_id                    0\n",
       "popularity                 0\n",
       "budget                  5696\n",
       "revenue                 6016\n",
       "original_title             0\n",
       "cast                       0\n",
       "homepage                   0\n",
       "director                   0\n",
       "tagline                    0\n",
       "keywords                   0\n",
       "overview                   0\n",
       "runtime                   31\n",
       "genres                     0\n",
       "production_companies       0\n",
       "release_date               0\n",
       "vote_count                 0\n",
       "vote_average               0\n",
       "release_year               0\n",
       "budget_adj              5696\n",
       "revenue_adj             6016\n",
       "dtype: int64"
      ]
     },
     "execution_count": 44,
     "metadata": {},
     "output_type": "execute_result"
    }
   ],
   "source": [
    "# Showing the number of 0 in each column\n",
    "df.isin([0]).sum()"
   ]
  },
  {
   "cell_type": "markdown",
   "metadata": {},
   "source": [
    "Lots of budget and revenue are at 0 which means that they are most likely missing (difficult to imagine a movie with 0 budget). As the investigation we gonna perform involves mainly movies profits, it is better to keep only rows for which both revenue and budget are available.   \n",
    "Then, we can find the number of NaN in our dataset:"
   ]
  },
  {
   "cell_type": "code",
   "execution_count": 45,
   "metadata": {},
   "outputs": [
    {
     "data": {
      "text/plain": [
       "id                         0\n",
       "imdb_id                   10\n",
       "popularity                 0\n",
       "budget                     0\n",
       "revenue                    0\n",
       "original_title             0\n",
       "cast                      76\n",
       "homepage                7930\n",
       "director                  44\n",
       "tagline                 2824\n",
       "keywords                1493\n",
       "overview                   4\n",
       "runtime                    0\n",
       "genres                    23\n",
       "production_companies    1030\n",
       "release_date               0\n",
       "vote_count                 0\n",
       "vote_average               0\n",
       "release_year               0\n",
       "budget_adj                 0\n",
       "revenue_adj                0\n",
       "dtype: int64"
      ]
     },
     "execution_count": 45,
     "metadata": {},
     "output_type": "execute_result"
    }
   ],
   "source": [
    "# Counting the number of NaN in each column\n",
    "df.isna().sum()"
   ]
  },
  {
   "cell_type": "markdown",
   "metadata": {},
   "source": [
    "There are few missings in cast, director, genres and production companies. We should fill these cells with a str \"not_specified\".\n",
    "We can now check the number of duplicate rows:"
   ]
  },
  {
   "cell_type": "code",
   "execution_count": 46,
   "metadata": {},
   "outputs": [
    {
     "data": {
      "text/plain": [
       "False    10865\n",
       "True         1\n",
       "dtype: int64"
      ]
     },
     "execution_count": 46,
     "metadata": {},
     "output_type": "execute_result"
    }
   ],
   "source": [
    "# Showing the number of duplicated rows (returns True if a row is duplicated)\n",
    "(df.duplicated()).value_counts()"
   ]
  },
  {
   "cell_type": "markdown",
   "metadata": {},
   "source": [
    "There is only 1 duplicated row. We will remove it during data cleaning phase.  \n",
    "We can then have an overlook at the numerical stats of the dataframe:"
   ]
  },
  {
   "cell_type": "code",
   "execution_count": 47,
   "metadata": {},
   "outputs": [
    {
     "data": {
      "text/html": [
       "<div>\n",
       "<style scoped>\n",
       "    .dataframe tbody tr th:only-of-type {\n",
       "        vertical-align: middle;\n",
       "    }\n",
       "\n",
       "    .dataframe tbody tr th {\n",
       "        vertical-align: top;\n",
       "    }\n",
       "\n",
       "    .dataframe thead th {\n",
       "        text-align: right;\n",
       "    }\n",
       "</style>\n",
       "<table border=\"1\" class=\"dataframe\">\n",
       "  <thead>\n",
       "    <tr style=\"text-align: right;\">\n",
       "      <th></th>\n",
       "      <th>id</th>\n",
       "      <th>popularity</th>\n",
       "      <th>budget</th>\n",
       "      <th>revenue</th>\n",
       "      <th>runtime</th>\n",
       "      <th>vote_count</th>\n",
       "      <th>vote_average</th>\n",
       "      <th>release_year</th>\n",
       "      <th>budget_adj</th>\n",
       "      <th>revenue_adj</th>\n",
       "    </tr>\n",
       "  </thead>\n",
       "  <tbody>\n",
       "    <tr>\n",
       "      <th>count</th>\n",
       "      <td>10866.000000</td>\n",
       "      <td>10866.000000</td>\n",
       "      <td>1.086600e+04</td>\n",
       "      <td>1.086600e+04</td>\n",
       "      <td>10866.000000</td>\n",
       "      <td>10866.000000</td>\n",
       "      <td>10866.000000</td>\n",
       "      <td>10866.000000</td>\n",
       "      <td>1.086600e+04</td>\n",
       "      <td>1.086600e+04</td>\n",
       "    </tr>\n",
       "    <tr>\n",
       "      <th>mean</th>\n",
       "      <td>66064.177434</td>\n",
       "      <td>0.646441</td>\n",
       "      <td>1.462570e+07</td>\n",
       "      <td>3.982332e+07</td>\n",
       "      <td>102.070863</td>\n",
       "      <td>217.389748</td>\n",
       "      <td>5.974922</td>\n",
       "      <td>2001.322658</td>\n",
       "      <td>1.755104e+07</td>\n",
       "      <td>5.136436e+07</td>\n",
       "    </tr>\n",
       "    <tr>\n",
       "      <th>std</th>\n",
       "      <td>92130.136561</td>\n",
       "      <td>1.000185</td>\n",
       "      <td>3.091321e+07</td>\n",
       "      <td>1.170035e+08</td>\n",
       "      <td>31.381405</td>\n",
       "      <td>575.619058</td>\n",
       "      <td>0.935142</td>\n",
       "      <td>12.812941</td>\n",
       "      <td>3.430616e+07</td>\n",
       "      <td>1.446325e+08</td>\n",
       "    </tr>\n",
       "    <tr>\n",
       "      <th>min</th>\n",
       "      <td>5.000000</td>\n",
       "      <td>0.000065</td>\n",
       "      <td>0.000000e+00</td>\n",
       "      <td>0.000000e+00</td>\n",
       "      <td>0.000000</td>\n",
       "      <td>10.000000</td>\n",
       "      <td>1.500000</td>\n",
       "      <td>1960.000000</td>\n",
       "      <td>0.000000e+00</td>\n",
       "      <td>0.000000e+00</td>\n",
       "    </tr>\n",
       "    <tr>\n",
       "      <th>25%</th>\n",
       "      <td>10596.250000</td>\n",
       "      <td>0.207583</td>\n",
       "      <td>0.000000e+00</td>\n",
       "      <td>0.000000e+00</td>\n",
       "      <td>90.000000</td>\n",
       "      <td>17.000000</td>\n",
       "      <td>5.400000</td>\n",
       "      <td>1995.000000</td>\n",
       "      <td>0.000000e+00</td>\n",
       "      <td>0.000000e+00</td>\n",
       "    </tr>\n",
       "    <tr>\n",
       "      <th>50%</th>\n",
       "      <td>20669.000000</td>\n",
       "      <td>0.383856</td>\n",
       "      <td>0.000000e+00</td>\n",
       "      <td>0.000000e+00</td>\n",
       "      <td>99.000000</td>\n",
       "      <td>38.000000</td>\n",
       "      <td>6.000000</td>\n",
       "      <td>2006.000000</td>\n",
       "      <td>0.000000e+00</td>\n",
       "      <td>0.000000e+00</td>\n",
       "    </tr>\n",
       "    <tr>\n",
       "      <th>75%</th>\n",
       "      <td>75610.000000</td>\n",
       "      <td>0.713817</td>\n",
       "      <td>1.500000e+07</td>\n",
       "      <td>2.400000e+07</td>\n",
       "      <td>111.000000</td>\n",
       "      <td>145.750000</td>\n",
       "      <td>6.600000</td>\n",
       "      <td>2011.000000</td>\n",
       "      <td>2.085325e+07</td>\n",
       "      <td>3.369710e+07</td>\n",
       "    </tr>\n",
       "    <tr>\n",
       "      <th>max</th>\n",
       "      <td>417859.000000</td>\n",
       "      <td>32.985763</td>\n",
       "      <td>4.250000e+08</td>\n",
       "      <td>2.781506e+09</td>\n",
       "      <td>900.000000</td>\n",
       "      <td>9767.000000</td>\n",
       "      <td>9.200000</td>\n",
       "      <td>2015.000000</td>\n",
       "      <td>4.250000e+08</td>\n",
       "      <td>2.827124e+09</td>\n",
       "    </tr>\n",
       "  </tbody>\n",
       "</table>\n",
       "</div>"
      ],
      "text/plain": [
       "                  id    popularity        budget       revenue       runtime  \\\n",
       "count   10866.000000  10866.000000  1.086600e+04  1.086600e+04  10866.000000   \n",
       "mean    66064.177434      0.646441  1.462570e+07  3.982332e+07    102.070863   \n",
       "std     92130.136561      1.000185  3.091321e+07  1.170035e+08     31.381405   \n",
       "min         5.000000      0.000065  0.000000e+00  0.000000e+00      0.000000   \n",
       "25%     10596.250000      0.207583  0.000000e+00  0.000000e+00     90.000000   \n",
       "50%     20669.000000      0.383856  0.000000e+00  0.000000e+00     99.000000   \n",
       "75%     75610.000000      0.713817  1.500000e+07  2.400000e+07    111.000000   \n",
       "max    417859.000000     32.985763  4.250000e+08  2.781506e+09    900.000000   \n",
       "\n",
       "         vote_count  vote_average  release_year    budget_adj   revenue_adj  \n",
       "count  10866.000000  10866.000000  10866.000000  1.086600e+04  1.086600e+04  \n",
       "mean     217.389748      5.974922   2001.322658  1.755104e+07  5.136436e+07  \n",
       "std      575.619058      0.935142     12.812941  3.430616e+07  1.446325e+08  \n",
       "min       10.000000      1.500000   1960.000000  0.000000e+00  0.000000e+00  \n",
       "25%       17.000000      5.400000   1995.000000  0.000000e+00  0.000000e+00  \n",
       "50%       38.000000      6.000000   2006.000000  0.000000e+00  0.000000e+00  \n",
       "75%      145.750000      6.600000   2011.000000  2.085325e+07  3.369710e+07  \n",
       "max     9767.000000      9.200000   2015.000000  4.250000e+08  2.827124e+09  "
      ]
     },
     "execution_count": 47,
     "metadata": {},
     "output_type": "execute_result"
    }
   ],
   "source": [
    "# Displaying the statistics of each numerical column\n",
    "df.describe()"
   ]
  },
  {
   "cell_type": "markdown",
   "metadata": {},
   "source": [
    "The budget and revenue first quartiles and medians are equal to 0 which is not surprising as more than half the rows have a budget or revenue value at 0. Let's display the revenue in function of budget in log scale to see if there are abnormal points (apart from the ones equal to 0). The graph will be more readable in log-log scale as we want to check low values."
   ]
  },
  {
   "cell_type": "code",
   "execution_count": 86,
   "metadata": {},
   "outputs": [
    {
     "data": {
      "text/plain": [
       "Text(0, 0.5, 'Revenue adjusted')"
      ]
     },
     "execution_count": 86,
     "metadata": {},
     "output_type": "execute_result"
    },
    {
     "data": {
      "image/png": "[encoded data removed]",
      "text/plain": [
       "<Figure size 720x576 with 1 Axes>"
      ]
     },
     "metadata": {},
     "output_type": "display_data"
    }
   ],
   "source": [
    "# Scatter plot in log-log scale\n",
    "df.plot(x = 'budget_adj', y = 'revenue_adj', style = 'o')\n",
    "# Graph features\n",
    "plt.xscale('log')\n",
    "plt.yscale('log')\n",
    "plt.xlim(0.01,1E10)\n",
    "plt.ylim(0.01,1E10)\n",
    "plt.title('Revenue_adj function of budget_adj', fontsize = 14)\n",
    "plt.xlabel('Budget adjusted', fontsize = 14)\n",
    "plt.ylabel('Revenue adjusted', fontsize = 14)"
   ]
  },
  {
   "cell_type": "markdown",
   "metadata": {},
   "source": [
    "There seems to be some strange points like, for instance, movies with a budget arround 100 USD generating revenue arround 10,000,000 USD. These points are most likely outliers in the database. We can display the dataset with budget and revenue different from 0 sorted by lowest budget."
   ]
  },
  {
   "cell_type": "code",
   "execution_count": 49,
   "metadata": {},
   "outputs": [
    {
     "data": {
      "text/html": [
       "<div>\n",
       "<style scoped>\n",
       "    .dataframe tbody tr th:only-of-type {\n",
       "        vertical-align: middle;\n",
       "    }\n",
       "\n",
       "    .dataframe tbody tr th {\n",
       "        vertical-align: top;\n",
       "    }\n",
       "\n",
       "    .dataframe thead th {\n",
       "        text-align: right;\n",
       "    }\n",
       "</style>\n",
       "<table border=\"1\" class=\"dataframe\">\n",
       "  <thead>\n",
       "    <tr style=\"text-align: right;\">\n",
       "      <th></th>\n",
       "      <th>budget_adj</th>\n",
       "      <th>revenue_adj</th>\n",
       "      <th>original_title</th>\n",
       "      <th>director</th>\n",
       "      <th>release_year</th>\n",
       "    </tr>\n",
       "  </thead>\n",
       "  <tbody>\n",
       "    <tr>\n",
       "      <th>3581</th>\n",
       "      <td>0.969398</td>\n",
       "      <td>1335.830503</td>\n",
       "      <td>Love, Wedding, Marriage</td>\n",
       "      <td>Dermot Mulroney</td>\n",
       "      <td>2011</td>\n",
       "    </tr>\n",
       "    <tr>\n",
       "      <th>2618</th>\n",
       "      <td>1.309053</td>\n",
       "      <td>130.905285</td>\n",
       "      <td>Lost &amp; Found</td>\n",
       "      <td>Jeff Pollack</td>\n",
       "      <td>1999</td>\n",
       "    </tr>\n",
       "    <tr>\n",
       "      <th>2398</th>\n",
       "      <td>3.000000</td>\n",
       "      <td>43.000000</td>\n",
       "      <td>Boy</td>\n",
       "      <td>Taika Waititi</td>\n",
       "      <td>2010</td>\n",
       "    </tr>\n",
       "    <tr>\n",
       "      <th>8944</th>\n",
       "      <td>4.519285</td>\n",
       "      <td>36.154278</td>\n",
       "      <td>Death Wish 2</td>\n",
       "      <td>Michael Winner</td>\n",
       "      <td>1982</td>\n",
       "    </tr>\n",
       "    <tr>\n",
       "      <th>10050</th>\n",
       "      <td>5.006696</td>\n",
       "      <td>26.702377</td>\n",
       "      <td>Tales from the Darkside: The Movie</td>\n",
       "      <td>John Harrison</td>\n",
       "      <td>1990</td>\n",
       "    </tr>\n",
       "    <tr>\n",
       "      <th>8235</th>\n",
       "      <td>8.585801</td>\n",
       "      <td>15.740636</td>\n",
       "      <td>Tales from the Hood</td>\n",
       "      <td>Rusty Cundieff</td>\n",
       "      <td>1995</td>\n",
       "    </tr>\n",
       "    <tr>\n",
       "      <th>5852</th>\n",
       "      <td>9.360334</td>\n",
       "      <td>10.296367</td>\n",
       "      <td>Hross Ã­ oss</td>\n",
       "      <td>Benedikt Erlingsson</td>\n",
       "      <td>2013</td>\n",
       "    </tr>\n",
       "    <tr>\n",
       "      <th>8125</th>\n",
       "      <td>11.447735</td>\n",
       "      <td>22.895470</td>\n",
       "      <td>The Prophecy</td>\n",
       "      <td>Gregory Widen</td>\n",
       "      <td>1995</td>\n",
       "    </tr>\n",
       "    <tr>\n",
       "      <th>5162</th>\n",
       "      <td>11.853526</td>\n",
       "      <td>5.926763</td>\n",
       "      <td>Kid's Story</td>\n",
       "      <td>Shinichiro Watanabe</td>\n",
       "      <td>2003</td>\n",
       "    </tr>\n",
       "    <tr>\n",
       "      <th>10297</th>\n",
       "      <td>12.075760</td>\n",
       "      <td>40.755689</td>\n",
       "      <td>National Lampoon's Loaded Weapon 1</td>\n",
       "      <td>Gene Quintano</td>\n",
       "      <td>1993</td>\n",
       "    </tr>\n",
       "  </tbody>\n",
       "</table>\n",
       "</div>"
      ],
      "text/plain": [
       "       budget_adj  revenue_adj                      original_title  \\\n",
       "3581     0.969398  1335.830503             Love, Wedding, Marriage   \n",
       "2618     1.309053   130.905285                        Lost & Found   \n",
       "2398     3.000000    43.000000                                 Boy   \n",
       "8944     4.519285    36.154278                        Death Wish 2   \n",
       "10050    5.006696    26.702377  Tales from the Darkside: The Movie   \n",
       "8235     8.585801    15.740636                 Tales from the Hood   \n",
       "5852     9.360334    10.296367                        Hross Ã­ oss   \n",
       "8125    11.447735    22.895470                        The Prophecy   \n",
       "5162    11.853526     5.926763                         Kid's Story   \n",
       "10297   12.075760    40.755689  National Lampoon's Loaded Weapon 1   \n",
       "\n",
       "                  director  release_year  \n",
       "3581       Dermot Mulroney          2011  \n",
       "2618          Jeff Pollack          1999  \n",
       "2398         Taika Waititi          2010  \n",
       "8944        Michael Winner          1982  \n",
       "10050        John Harrison          1990  \n",
       "8235        Rusty Cundieff          1995  \n",
       "5852   Benedikt Erlingsson          2013  \n",
       "8125         Gregory Widen          1995  \n",
       "5162   Shinichiro Watanabe          2003  \n",
       "10297        Gene Quintano          1993  "
      ]
     },
     "execution_count": 49,
     "metadata": {},
     "output_type": "execute_result"
    }
   ],
   "source": [
    "# Generating a dataframe without any budget or revenue equal to 0\n",
    "filtered_df = df[(df['budget_adj'] != 0) & (df['revenue_adj'] != 0)]\n",
    "\n",
    "# Displaying the 10 lowest budget and revenue movies from this extract_df\n",
    "filtered_df[\n",
    "    ['budget_adj', 'revenue_adj', 'original_title', 'director', 'release_year']\n",
    "].sort_values(['budget_adj', 'revenue_adj'], ascending = True).head(10)"
   ]
  },
  {
   "cell_type": "markdown",
   "metadata": {},
   "source": [
    "Those movies appear to have outlier information on budget and revenue. According to the informations found on the internet, the cheapest movies had a budget arround 7000 USD. We could use this value as a selection criteria to avoid outliers messing with our investigation.  \n",
    "Reference :\n",
    "https://en.wikipedia.org/wiki/Low-budget_film  \n",
    "For revenue however it is more difficult to apply a criteria as some movies generated losses (anyway, we can assume that movies with revenue equal to 0 are outliers). As our investigation will be mostly driven by the most profitable movies, we can apply an lower criteria on budget only. Let's see how many movies have a budget included in the interval ]0, 7000["
   ]
  },
  {
   "cell_type": "code",
   "execution_count": 50,
   "metadata": {},
   "outputs": [
    {
     "name": "stdout",
     "output_type": "stream",
     "text": [
      "Number of movies with budget in ]0, 7000[ and non null revenue: 23\n"
     ]
    }
   ],
   "source": [
    "# Re-calculating the previous filtered dataframe with budget in ]0, 7000[ and no revenue equal to 0\n",
    "filtered_df = df[(df['budget_adj'] != 0) & (df['revenue_adj'] != 0) & (df['budget_adj'] < 7000)]\n",
    "print('Number of movies with budget in ]0, 7000[ and non null revenue:',\n",
    "      filtered_df['budget_adj'].value_counts().sum())"
   ]
  },
  {
   "cell_type": "markdown",
   "metadata": {},
   "source": [
    "There are not so many movies in that case. But as they can impact the profit analysis we are going to perform, we should better drop them."
   ]
  },
  {
   "cell_type": "markdown",
   "metadata": {},
   "source": [
    "### Data Cleaning :\n",
    "\n",
    "These are the cleaning steps we gonna perform thanks to the observations made on the data wrangling phase:\n",
    "\n",
    "- Removing columns: \"imdb_id\",\"homepage\",\"tagline\",\"overview\" and \"keywords\".\n",
    "- Droping duplicated lines\n",
    "- Checking if there are several movies with same title. If no, remove \"id\" column.\n",
    "- Transforming the dates into datetime format\n",
    "- Transforming the \"budget_adj\" and \"revenue_adj\" scientific display into standard display\n",
    "- Filling the NaN by \"not specified\" in \"genres\", \"director\",\"cast\" and \"production_companies\" columns\n",
    "- Modifying format of cast\", \"director\", \"genres\" and \"production companies\" to haves lists instead of str|str\n",
    "- Droping the rows with revenue equal to 0 and budget < 7000 USD\n",
    "- Adding columns \"profit\" and \"profit_adj\" necessary for the investigation"
   ]
  },
  {
   "cell_type": "markdown",
   "metadata": {},
   "source": [
    "First, we remove the unnecessary columns and the duplicated rows:"
   ]
  },
  {
   "cell_type": "code",
   "execution_count": 51,
   "metadata": {},
   "outputs": [],
   "source": [
    "# Droping the unnecessary columns\n",
    "df.drop(['imdb_id', 'homepage', 'tagline', 'overview', 'keywords'], axis = 1, inplace = True)\n",
    "# Removing duplicated rows\n",
    "df.drop_duplicates(inplace = True)"
   ]
  },
  {
   "cell_type": "markdown",
   "metadata": {},
   "source": [
    "Then, we check if all movie titles are unique (if yes, we can remove the \"id\" column):"
   ]
  },
  {
   "cell_type": "code",
   "execution_count": 52,
   "metadata": {},
   "outputs": [
    {
     "data": {
      "text/plain": [
       "False    10571\n",
       "True       294\n",
       "Name: original_title, dtype: int64"
      ]
     },
     "execution_count": 52,
     "metadata": {},
     "output_type": "execute_result"
    }
   ],
   "source": [
    "# Counting the number of duplicated elements (True) in a single column\n",
    "(df['original_title'].duplicated(keep = 'first')).value_counts() # 'first' returns True only on the first instance duplicated"
   ]
  },
  {
   "cell_type": "markdown",
   "metadata": {},
   "source": [
    "There are 294 identical titles. Let's check the number of id duplicates if any:"
   ]
  },
  {
   "cell_type": "code",
   "execution_count": 53,
   "metadata": {},
   "outputs": [
    {
     "data": {
      "text/plain": [
       "False    10865\n",
       "Name: id, dtype: int64"
      ]
     },
     "execution_count": 53,
     "metadata": {},
     "output_type": "execute_result"
    }
   ],
   "source": [
    "# Counting the number of duplicated elements (True) in a single column\n",
    "(df['id'].duplicated()).value_counts()"
   ]
  },
  {
   "cell_type": "markdown",
   "metadata": {},
   "source": [
    "There are no duplicates on id. We should then keep the id column to be able to differenciate 2 movies with identical titles.  \n",
    "Now we can transform the release dates to datetime format and change the format of budget_adj and revenue_adj from scientific format to standard format."
   ]
  },
  {
   "cell_type": "code",
   "execution_count": 54,
   "metadata": {},
   "outputs": [],
   "source": [
    "# Changing the format of dates:\n",
    "df['release_date'] = pd.to_datetime(df['release_date'], errors = 'ignore')\n",
    "\n",
    "# Changing the format of budget_adj and revenue_adj (no int() attribute on pd.Series, so we can create a function)\n",
    "def float_to_int(number):\n",
    "    return np.int(number)\n",
    "\n",
    "# Applying the function ot columns budget_adj and revenue_adj \n",
    "df['budget_adj'] = df['budget_adj'].apply(float_to_int)\n",
    "df['revenue_adj'] = df['revenue_adj'].apply(float_to_int)"
   ]
  },
  {
   "cell_type": "markdown",
   "metadata": {},
   "source": [
    "Now we can fill the missing values from remaining columns director and genres by 'not specified'"
   ]
  },
  {
   "cell_type": "code",
   "execution_count": 55,
   "metadata": {},
   "outputs": [],
   "source": [
    "df[['genres', 'director', 'cast', 'production_companies']] = \\\n",
    "df[['genres', 'director', 'cast', 'production_companies']].fillna('not_specified')"
   ]
  },
  {
   "cell_type": "markdown",
   "metadata": {},
   "source": [
    "Next, we will clean the genres, cast and director columns. To do that we are going to write a function to convert the specific format to list."
   ]
  },
  {
   "cell_type": "code",
   "execution_count": 58,
   "metadata": {},
   "outputs": [
    {
     "data": {
      "text/html": [
       "<div>\n",
       "<style scoped>\n",
       "    .dataframe tbody tr th:only-of-type {\n",
       "        vertical-align: middle;\n",
       "    }\n",
       "\n",
       "    .dataframe tbody tr th {\n",
       "        vertical-align: top;\n",
       "    }\n",
       "\n",
       "    .dataframe thead th {\n",
       "        text-align: right;\n",
       "    }\n",
       "</style>\n",
       "<table border=\"1\" class=\"dataframe\">\n",
       "  <thead>\n",
       "    <tr style=\"text-align: right;\">\n",
       "      <th></th>\n",
       "      <th>id</th>\n",
       "      <th>popularity</th>\n",
       "      <th>budget</th>\n",
       "      <th>revenue</th>\n",
       "      <th>original_title</th>\n",
       "      <th>cast</th>\n",
       "      <th>director</th>\n",
       "      <th>runtime</th>\n",
       "      <th>genres</th>\n",
       "      <th>production_companies</th>\n",
       "      <th>release_date</th>\n",
       "      <th>vote_count</th>\n",
       "      <th>vote_average</th>\n",
       "      <th>release_year</th>\n",
       "      <th>budget_adj</th>\n",
       "      <th>revenue_adj</th>\n",
       "      <th>profit</th>\n",
       "      <th>profit_adj</th>\n",
       "    </tr>\n",
       "  </thead>\n",
       "  <tbody>\n",
       "    <tr>\n",
       "      <th>0</th>\n",
       "      <td>135397</td>\n",
       "      <td>32.985763</td>\n",
       "      <td>150000000</td>\n",
       "      <td>1513528810</td>\n",
       "      <td>Jurassic World</td>\n",
       "      <td>[Chris Pratt, Bryce Dallas Howard, Irrfan Khan...</td>\n",
       "      <td>[Colin Trevorrow]</td>\n",
       "      <td>124</td>\n",
       "      <td>[Action, Adventure, Science Fiction, Thriller]</td>\n",
       "      <td>[Universal Studios, Amblin Entertainment, Lege...</td>\n",
       "      <td>2015-06-09</td>\n",
       "      <td>5562</td>\n",
       "      <td>6.5</td>\n",
       "      <td>2015</td>\n",
       "      <td>137999939</td>\n",
       "      <td>1392445892</td>\n",
       "      <td>1363528810</td>\n",
       "      <td>1254445953</td>\n",
       "    </tr>\n",
       "  </tbody>\n",
       "</table>\n",
       "</div>"
      ],
      "text/plain": [
       "       id  popularity     budget     revenue  original_title  \\\n",
       "0  135397   32.985763  150000000  1513528810  Jurassic World   \n",
       "\n",
       "                                                cast           director  \\\n",
       "0  [Chris Pratt, Bryce Dallas Howard, Irrfan Khan...  [Colin Trevorrow]   \n",
       "\n",
       "   runtime                                          genres  \\\n",
       "0      124  [Action, Adventure, Science Fiction, Thriller]   \n",
       "\n",
       "                                production_companies release_date  vote_count  \\\n",
       "0  [Universal Studios, Amblin Entertainment, Lege...   2015-06-09        5562   \n",
       "\n",
       "   vote_average  release_year  budget_adj  revenue_adj      profit  profit_adj  \n",
       "0           6.5          2015   137999939   1392445892  1363528810  1254445953  "
      ]
     },
     "execution_count": 58,
     "metadata": {},
     "output_type": "execute_result"
    }
   ],
   "source": [
    "# Function that converts \"str1|str2...\" to ['str1','str2',...]\n",
    "def convert_to_list(name):\n",
    "    if type(name) != list:     # This if loop allows to execute the function several times\n",
    "        return name.split(\"|\")\n",
    "    else:\n",
    "        return name\n",
    "\n",
    "# Applying this funtion on all relevant columns\n",
    "for col in ['cast', 'director', 'genres', 'production_companies']:\n",
    "    df[col] = df[col].apply(convert_to_list)\n",
    "\n",
    "# Checking the result\n",
    "df.head(1)"
   ]
  },
  {
   "cell_type": "markdown",
   "metadata": {},
   "source": [
    "As we will need these columns in the following phase, we add the profit = revenue - budget (adjusted and not) in our dataset."
   ]
  },
  {
   "cell_type": "code",
   "execution_count": 59,
   "metadata": {},
   "outputs": [],
   "source": [
    "# Creating profit and adjusted profit columns\n",
    "df['profit'] = df['revenue'] - df['budget']\n",
    "df['profit_adj'] = df['revenue_adj'] - df['budget_adj']"
   ]
  },
  {
   "cell_type": "markdown",
   "metadata": {},
   "source": [
    "Finally, can discard all rows with budget less than 7000 USD:"
   ]
  },
  {
   "cell_type": "code",
   "execution_count": 60,
   "metadata": {},
   "outputs": [
    {
     "data": {
      "text/html": [
       "<div>\n",
       "<style scoped>\n",
       "    .dataframe tbody tr th:only-of-type {\n",
       "        vertical-align: middle;\n",
       "    }\n",
       "\n",
       "    .dataframe tbody tr th {\n",
       "        vertical-align: top;\n",
       "    }\n",
       "\n",
       "    .dataframe thead th {\n",
       "        text-align: right;\n",
       "    }\n",
       "</style>\n",
       "<table border=\"1\" class=\"dataframe\">\n",
       "  <thead>\n",
       "    <tr style=\"text-align: right;\">\n",
       "      <th></th>\n",
       "      <th>id</th>\n",
       "      <th>popularity</th>\n",
       "      <th>budget</th>\n",
       "      <th>revenue</th>\n",
       "      <th>runtime</th>\n",
       "      <th>vote_count</th>\n",
       "      <th>vote_average</th>\n",
       "      <th>release_year</th>\n",
       "      <th>budget_adj</th>\n",
       "      <th>revenue_adj</th>\n",
       "      <th>profit</th>\n",
       "      <th>profit_adj</th>\n",
       "    </tr>\n",
       "  </thead>\n",
       "  <tbody>\n",
       "    <tr>\n",
       "      <th>count</th>\n",
       "      <td>3831.000000</td>\n",
       "      <td>3831.000000</td>\n",
       "      <td>3.831000e+03</td>\n",
       "      <td>3.831000e+03</td>\n",
       "      <td>3831.000000</td>\n",
       "      <td>3831.000000</td>\n",
       "      <td>3831.000000</td>\n",
       "      <td>3831.000000</td>\n",
       "      <td>3.831000e+03</td>\n",
       "      <td>3.831000e+03</td>\n",
       "      <td>3.831000e+03</td>\n",
       "      <td>3.831000e+03</td>\n",
       "    </tr>\n",
       "    <tr>\n",
       "      <th>mean</th>\n",
       "      <td>39875.697990</td>\n",
       "      <td>1.196248</td>\n",
       "      <td>3.742705e+07</td>\n",
       "      <td>1.083007e+08</td>\n",
       "      <td>109.254764</td>\n",
       "      <td>530.444009</td>\n",
       "      <td>6.169877</td>\n",
       "      <td>2001.271992</td>\n",
       "      <td>4.450559e+07</td>\n",
       "      <td>1.378236e+08</td>\n",
       "      <td>7.087363e+07</td>\n",
       "      <td>9.331803e+07</td>\n",
       "    </tr>\n",
       "    <tr>\n",
       "      <th>std</th>\n",
       "      <td>67281.091327</td>\n",
       "      <td>1.478149</td>\n",
       "      <td>4.223590e+07</td>\n",
       "      <td>1.768808e+08</td>\n",
       "      <td>19.869295</td>\n",
       "      <td>881.832423</td>\n",
       "      <td>0.795034</td>\n",
       "      <td>11.284785</td>\n",
       "      <td>4.481187e+07</td>\n",
       "      <td>2.165063e+08</td>\n",
       "      <td>1.509755e+08</td>\n",
       "      <td>1.945149e+08</td>\n",
       "    </tr>\n",
       "    <tr>\n",
       "      <th>min</th>\n",
       "      <td>5.000000</td>\n",
       "      <td>0.001117</td>\n",
       "      <td>7.000000e+03</td>\n",
       "      <td>2.000000e+00</td>\n",
       "      <td>26.000000</td>\n",
       "      <td>10.000000</td>\n",
       "      <td>2.200000</td>\n",
       "      <td>1960.000000</td>\n",
       "      <td>7.755000e+03</td>\n",
       "      <td>2.000000e+00</td>\n",
       "      <td>-4.139124e+08</td>\n",
       "      <td>-4.139124e+08</td>\n",
       "    </tr>\n",
       "    <tr>\n",
       "      <th>25%</th>\n",
       "      <td>6053.000000</td>\n",
       "      <td>0.464523</td>\n",
       "      <td>1.000000e+07</td>\n",
       "      <td>1.400000e+07</td>\n",
       "      <td>96.000000</td>\n",
       "      <td>72.000000</td>\n",
       "      <td>5.700000</td>\n",
       "      <td>1995.000000</td>\n",
       "      <td>1.329642e+07</td>\n",
       "      <td>1.877250e+07</td>\n",
       "      <td>-1.403414e+06</td>\n",
       "      <td>-1.643114e+06</td>\n",
       "    </tr>\n",
       "    <tr>\n",
       "      <th>50%</th>\n",
       "      <td>11298.000000</td>\n",
       "      <td>0.802711</td>\n",
       "      <td>2.400000e+07</td>\n",
       "      <td>4.555453e+07</td>\n",
       "      <td>106.000000</td>\n",
       "      <td>206.000000</td>\n",
       "      <td>6.200000</td>\n",
       "      <td>2004.000000</td>\n",
       "      <td>3.030653e+07</td>\n",
       "      <td>6.209418e+07</td>\n",
       "      <td>2.030029e+07</td>\n",
       "      <td>2.795416e+07</td>\n",
       "    </tr>\n",
       "    <tr>\n",
       "      <th>75%</th>\n",
       "      <td>38541.500000</td>\n",
       "      <td>1.378538</td>\n",
       "      <td>5.000000e+07</td>\n",
       "      <td>1.249074e+08</td>\n",
       "      <td>119.000000</td>\n",
       "      <td>582.000000</td>\n",
       "      <td>6.700000</td>\n",
       "      <td>2010.000000</td>\n",
       "      <td>6.076720e+07</td>\n",
       "      <td>1.646599e+08</td>\n",
       "      <td>8.222554e+07</td>\n",
       "      <td>1.079842e+08</td>\n",
       "    </tr>\n",
       "    <tr>\n",
       "      <th>max</th>\n",
       "      <td>417859.000000</td>\n",
       "      <td>32.985763</td>\n",
       "      <td>4.250000e+08</td>\n",
       "      <td>2.781506e+09</td>\n",
       "      <td>338.000000</td>\n",
       "      <td>9767.000000</td>\n",
       "      <td>8.400000</td>\n",
       "      <td>2015.000000</td>\n",
       "      <td>4.250000e+08</td>\n",
       "      <td>2.827124e+09</td>\n",
       "      <td>2.544506e+09</td>\n",
       "      <td>2.750137e+09</td>\n",
       "    </tr>\n",
       "  </tbody>\n",
       "</table>\n",
       "</div>"
      ],
      "text/plain": [
       "                  id   popularity        budget       revenue      runtime  \\\n",
       "count    3831.000000  3831.000000  3.831000e+03  3.831000e+03  3831.000000   \n",
       "mean    39875.697990     1.196248  3.742705e+07  1.083007e+08   109.254764   \n",
       "std     67281.091327     1.478149  4.223590e+07  1.768808e+08    19.869295   \n",
       "min         5.000000     0.001117  7.000000e+03  2.000000e+00    26.000000   \n",
       "25%      6053.000000     0.464523  1.000000e+07  1.400000e+07    96.000000   \n",
       "50%     11298.000000     0.802711  2.400000e+07  4.555453e+07   106.000000   \n",
       "75%     38541.500000     1.378538  5.000000e+07  1.249074e+08   119.000000   \n",
       "max    417859.000000    32.985763  4.250000e+08  2.781506e+09   338.000000   \n",
       "\n",
       "        vote_count  vote_average  release_year    budget_adj   revenue_adj  \\\n",
       "count  3831.000000   3831.000000   3831.000000  3.831000e+03  3.831000e+03   \n",
       "mean    530.444009      6.169877   2001.271992  4.450559e+07  1.378236e+08   \n",
       "std     881.832423      0.795034     11.284785  4.481187e+07  2.165063e+08   \n",
       "min      10.000000      2.200000   1960.000000  7.755000e+03  2.000000e+00   \n",
       "25%      72.000000      5.700000   1995.000000  1.329642e+07  1.877250e+07   \n",
       "50%     206.000000      6.200000   2004.000000  3.030653e+07  6.209418e+07   \n",
       "75%     582.000000      6.700000   2010.000000  6.076720e+07  1.646599e+08   \n",
       "max    9767.000000      8.400000   2015.000000  4.250000e+08  2.827124e+09   \n",
       "\n",
       "             profit    profit_adj  \n",
       "count  3.831000e+03  3.831000e+03  \n",
       "mean   7.087363e+07  9.331803e+07  \n",
       "std    1.509755e+08  1.945149e+08  \n",
       "min   -4.139124e+08 -4.139124e+08  \n",
       "25%   -1.403414e+06 -1.643114e+06  \n",
       "50%    2.030029e+07  2.795416e+07  \n",
       "75%    8.222554e+07  1.079842e+08  \n",
       "max    2.544506e+09  2.750137e+09  "
      ]
     },
     "execution_count": 60,
     "metadata": {},
     "output_type": "execute_result"
    }
   ],
   "source": [
    "# Drop every row with budget lower than 7000 USD and with revenue equal to 0\n",
    "df = df[(df['budget_adj'] >= 7000) & (df['revenue_adj'] != 0)]\n",
    "df.describe()"
   ]
  },
  {
   "cell_type": "markdown",
   "metadata": {},
   "source": [
    "We can perform a last check at our cleaned dataset infos"
   ]
  },
  {
   "cell_type": "code",
   "execution_count": 61,
   "metadata": {},
   "outputs": [
    {
     "name": "stdout",
     "output_type": "stream",
     "text": [
      "<class 'pandas.core.frame.DataFrame'>\n",
      "Int64Index: 3831 entries, 0 to 10848\n",
      "Data columns (total 18 columns):\n",
      "id                      3831 non-null int64\n",
      "popularity              3831 non-null float64\n",
      "budget                  3831 non-null int64\n",
      "revenue                 3831 non-null int64\n",
      "original_title          3831 non-null object\n",
      "cast                    3831 non-null object\n",
      "director                3831 non-null object\n",
      "runtime                 3831 non-null int64\n",
      "genres                  3831 non-null object\n",
      "production_companies    3831 non-null object\n",
      "release_date            3831 non-null datetime64[ns]\n",
      "vote_count              3831 non-null int64\n",
      "vote_average            3831 non-null float64\n",
      "release_year            3831 non-null int64\n",
      "budget_adj              3831 non-null int64\n",
      "revenue_adj             3831 non-null int64\n",
      "profit                  3831 non-null int64\n",
      "profit_adj              3831 non-null int64\n",
      "dtypes: datetime64[ns](1), float64(2), int64(10), object(5)\n",
      "memory usage: 568.7+ KB\n"
     ]
    }
   ],
   "source": [
    "df.info()"
   ]
  },
  {
   "cell_type": "markdown",
   "metadata": {},
   "source": [
    "<a id='eda'></a>\n",
    "## Exploratory Data Analysis\n",
    "\n",
    "In this section we are going to answer the research questions.\n",
    "\n",
    "<a id='Q1'></a>\n",
    "### 1. What are the most and the least profitable movies ?\n",
    "\n",
    "The following bargraph shows the most profitable movies. As we are comparing movies from different period, the analysis is performed with the adjusted profits to take into account the inflation. We can also see if accouting for the inflation has an effect. "
   ]
  },
  {
   "cell_type": "code",
   "execution_count": 62,
   "metadata": {},
   "outputs": [
    {
     "data": {
      "text/plain": [
       "Text(0.5, 1.0, 'Most profitable movies')"
      ]
     },
     "execution_count": 62,
     "metadata": {},
     "output_type": "execute_result"
    },
    {
     "data": {
      "image/png": "[encoded data removed]",
      "text/plain": [
       "<Figure size 720x576 with 1 Axes>"
      ]
     },
     "metadata": {},
     "output_type": "display_data"
    }
   ],
   "source": [
    "# Extracting the dataframe grouped by movie titles\n",
    "df_profit_movies = df.groupby('original_title')['original_title', 'profit_adj', 'profit'].head()\n",
    "\n",
    "# Displaying with horizontal barplot\n",
    "df_profit_movies.sort_values(['profit_adj', 'profit'], ascending = False).head(8).plot(kind = 'barh', \n",
    "                                                                                      x = 'original_title', \n",
    "                                                                                      alpha = 0.8, \n",
    "                                                                                       color = ['b','c']);\n",
    "# Inverting y axis to have a top-down display\n",
    "plt.gca().invert_yaxis()\n",
    "# Graph features\n",
    "plt.xlabel('Profit (USD)', fontsize = 14)\n",
    "plt.ylabel('Movies', fontsize = 14)\n",
    "plt.title('Most profitable movies', fontsize = 14)"
   ]
  },
  {
   "cell_type": "markdown",
   "metadata": {},
   "source": [
    "The most profitable movie is **Star wars** followed by **Avatar** and **Titanic**. We can see that taking into account the inflation or not has a significant effect on the result. The following bargraph shows the least profitable movies, again, with inflation adjustment:"
   ]
  },
  {
   "cell_type": "code",
   "execution_count": 22,
   "metadata": {},
   "outputs": [
    {
     "data": {
      "text/plain": [
       "Text(0.5, 1.0, 'Least profitable movies')"
      ]
     },
     "execution_count": 22,
     "metadata": {},
     "output_type": "execute_result"
    },
    {
     "data": {
      "image/png": "[encoded data removed]",
      "text/plain": [
       "<Figure size 720x576 with 1 Axes>"
      ]
     },
     "metadata": {},
     "output_type": "display_data"
    }
   ],
   "source": [
    "# Displaying with horizontal barplot\n",
    "df_profit_movies.sort_values(['profit_adj', 'profit'], ascending = False).tail(8).plot(kind = 'barh', \n",
    "                                                                                      x = 'original_title', \n",
    "                                                                                      alpha = 0.6, \n",
    "                                                                                      color = ['y','r']);\n",
    "# Inverting x axis to have a left-right display\n",
    "plt.gca().invert_xaxis()\n",
    "# Graph features\n",
    "plt.xlabel('Profit (USD)', fontsize = 14)\n",
    "plt.ylabel('Movies', fontsize = 14)\n",
    "plt.title('Least profitable movies', fontsize = 14)"
   ]
  },
  {
   "cell_type": "markdown",
   "metadata": {},
   "source": [
    "It seems that the **Warrior's way** is the least profitable movie and by far."
   ]
  },
  {
   "cell_type": "markdown",
   "metadata": {},
   "source": [
    "<a id='Q2'></a>\n",
    "## 2. What is the distribution of all movies profits\n",
    "\n",
    "Let's see what is the distributon of the adjusted profits for the whole dataset:"
   ]
  },
  {
   "cell_type": "code",
   "execution_count": 63,
   "metadata": {},
   "outputs": [
    {
     "data": {
      "text/plain": [
       "Text(0.5, 1.0, 'Distribution of profits')"
      ]
     },
     "execution_count": 63,
     "metadata": {},
     "output_type": "execute_result"
    },
    {
     "data": {
      "image/png": "[encoded data removed]",
      "text/plain": [
       "<Figure size 720x576 with 1 Axes>"
      ]
     },
     "metadata": {},
     "output_type": "display_data"
    }
   ],
   "source": [
    "# Displaying the distribution of the profits\n",
    "sns.distplot(df[('profit_adj')], bins = 50)\n",
    "# Graph features\n",
    "plt.xticks(rotation = 0)\n",
    "plt.xlabel('Profit adjusted (USD)', fontsize = 14)\n",
    "plt.ylabel('Distribution', fontsize = 14)\n",
    "plt.title('Distribution of profits', fontsize = 14)"
   ]
  },
  {
   "cell_type": "markdown",
   "metadata": {},
   "source": [
    "We can see that the distribution is **positively skewed** with a steep slope."
   ]
  },
  {
   "cell_type": "markdown",
   "metadata": {},
   "source": [
    "<a id='Q3'></a>\n",
    "## 3. Are the most profitable movies also the better rated ?\n",
    "\n",
    "To measure the movie rating, the dataset provides the popularity, the average vote and the vote count. We will display the popularity and vote average in function of the profit with an hexbin plot:"
   ]
  },
  {
   "cell_type": "code",
   "execution_count": 72,
   "metadata": {},
   "outputs": [
    {
     "name": "stdout",
     "output_type": "stream",
     "text": [
      "x axis : Profit - adjusted (USD)\n",
      "y axis : Popularity\n",
      "z axis : vote_average\n"
     ]
    },
    {
     "data": {
      "image/png": "[encoded data removed]",
      "text/plain": [
       "<Figure size 720x576 with 2 Axes>"
      ]
     },
     "metadata": {},
     "output_type": "display_data"
    }
   ],
   "source": [
    "# Creating hexbin graph\n",
    "df.plot(kind = 'hexbin', x = 'profit_adj', y = 'popularity', C = 'vote_average', cmap = 'rainbow', gridsize = 50)\n",
    "# Graph features\n",
    "plt.xlabel('Profit - adjusted (USD))', fontsize = 14)\n",
    "plt.ylabel('Popularity', fontsize = 14)\n",
    "plt.title('Popularity and vote count function of profit', fontsize = 14)\n",
    "print(\"x axis : Profit - adjusted (USD)\\ny axis : Popularity\\nz axis : vote_average\")"
   ]
  },
  {
   "cell_type": "markdown",
   "metadata": {},
   "source": [
    "The correlation between profit and popularity seems to exist but it is not obvious. Same observation for the correlation between profit and vote_average. We can calculate the Pearson's r factor to check the correlations between these parameters: "
   ]
  },
  {
   "cell_type": "code",
   "execution_count": 73,
   "metadata": {},
   "outputs": [
    {
     "data": {
      "text/html": [
       "<div>\n",
       "<style scoped>\n",
       "    .dataframe tbody tr th:only-of-type {\n",
       "        vertical-align: middle;\n",
       "    }\n",
       "\n",
       "    .dataframe tbody tr th {\n",
       "        vertical-align: top;\n",
       "    }\n",
       "\n",
       "    .dataframe thead th {\n",
       "        text-align: right;\n",
       "    }\n",
       "</style>\n",
       "<table border=\"1\" class=\"dataframe\">\n",
       "  <thead>\n",
       "    <tr style=\"text-align: right;\">\n",
       "      <th></th>\n",
       "      <th>profit_adj</th>\n",
       "      <th>vote_average</th>\n",
       "      <th>vote_count</th>\n",
       "      <th>popularity</th>\n",
       "    </tr>\n",
       "  </thead>\n",
       "  <tbody>\n",
       "    <tr>\n",
       "      <th>profit_adj</th>\n",
       "      <td>1.000000</td>\n",
       "      <td>0.288794</td>\n",
       "      <td>0.613670</td>\n",
       "      <td>0.516316</td>\n",
       "    </tr>\n",
       "    <tr>\n",
       "      <th>vote_average</th>\n",
       "      <td>0.288794</td>\n",
       "      <td>1.000000</td>\n",
       "      <td>0.387370</td>\n",
       "      <td>0.317973</td>\n",
       "    </tr>\n",
       "    <tr>\n",
       "      <th>vote_count</th>\n",
       "      <td>0.613670</td>\n",
       "      <td>0.387370</td>\n",
       "      <td>1.000000</td>\n",
       "      <td>0.779752</td>\n",
       "    </tr>\n",
       "    <tr>\n",
       "      <th>popularity</th>\n",
       "      <td>0.516316</td>\n",
       "      <td>0.317973</td>\n",
       "      <td>0.779752</td>\n",
       "      <td>1.000000</td>\n",
       "    </tr>\n",
       "  </tbody>\n",
       "</table>\n",
       "</div>"
      ],
      "text/plain": [
       "              profit_adj  vote_average  vote_count  popularity\n",
       "profit_adj      1.000000      0.288794    0.613670    0.516316\n",
       "vote_average    0.288794      1.000000    0.387370    0.317973\n",
       "vote_count      0.613670      0.387370    1.000000    0.779752\n",
       "popularity      0.516316      0.317973    0.779752    1.000000"
      ]
     },
     "execution_count": 73,
     "metadata": {},
     "output_type": "execute_result"
    }
   ],
   "source": [
    "df.corr(method = 'pearson')[['profit_adj', 'vote_average', 'vote_count', 'popularity']] \\\n",
    ".loc[['profit_adj', 'vote_average', 'vote_count', 'popularity']]"
   ]
  },
  {
   "cell_type": "markdown",
   "metadata": {},
   "source": [
    "There is a **small correlation between profit and popularity** (r = 0.52). **The correlation of profit with the vote average is very poor**  (r = 0.29). However, there seems to be a **small correlation between profit and vote count** (r = 0.61).   \n",
    "It may be possible that more popular the movie, the more people vote (this is supported by the correlation factor between popularity and vote count : r = 0.78). But there is no significant correlation between vote average and vote count (r = 0.39).\n",
    "The most profitable movie is not necessarily the most rated. The number of voting people can be a lurking variable."
   ]
  },
  {
   "cell_type": "markdown",
   "metadata": {},
   "source": [
    "<a id='Q4'></a>\n",
    "## 4. During which months are the most profitable movies released ?\n",
    "\n",
    "To answer that question we can create a column in our dataset containing the month of release of each movie. Since we have the exact release date in datetime format, we can extract the month."
   ]
  },
  {
   "cell_type": "code",
   "execution_count": 76,
   "metadata": {},
   "outputs": [
    {
     "data": {
      "text/plain": [
       "Text(0.5, 1.0, 'Mean profit (adjusted) per month')"
      ]
     },
     "execution_count": 76,
     "metadata": {},
     "output_type": "execute_result"
    },
    {
     "data": {
      "image/png": "[encoded data removed]",
      "text/plain": [
       "<Figure size 720x576 with 1 Axes>"
      ]
     },
     "metadata": {},
     "output_type": "display_data"
    }
   ],
   "source": [
    "# Creating a column with month (integer format)\n",
    "df['release_month'] = df['release_date'].dt.month  # datetime library is needed to extract the month from a datetime object.\n",
    "\n",
    "# Grouping by month and making a list out of it. \n",
    "mean_profit_count = list(df.groupby('release_month')['profit_adj'].mean())\n",
    "# Creating the list of months\n",
    "months = ['Jan', 'Feb', 'Mar', 'Apr', 'May', 'Jun', 'Jul', 'Aug', 'Sep', 'Oct', 'Nov', 'Dec']\n",
    "\n",
    "# Ploting the results\n",
    "sns.barplot(x = months, y = mean_profit_count, color = \"b\", alpha = 0.8);\n",
    "# Graph features\n",
    "plt.xlabel('Release month', fontsize = 14)\n",
    "plt.ylabel('Mean profit (USD)', fontsize = 14)\n",
    "plt.title('Mean profit (adjusted) per month', fontsize = 14)"
   ]
  },
  {
   "cell_type": "markdown",
   "metadata": {},
   "source": [
    "We can see that the most profitable movies are released **before summer** and at the **end of the year**. This is not surprising as more people are in holidays in summer break and before Christmas, so movie companies may try to release the most anticipated movies in this period."
   ]
  },
  {
   "cell_type": "markdown",
   "metadata": {},
   "source": [
    "<a id='Q5'></a>\n",
    "## 5. What are the genres that generated the most profits ?\n",
    "\n",
    "To perform this analysis, we will write a function that generates a dataframe giving, for each genre, the number of movies and the total profit.   \n",
    "It is difficult to say that the profit generated by a movie is equally distributed on each genre. There is generally a main genre and secondary genres. To answer that question, we can simply sum all the profits from the movies featuring one specific genre and compare it to the others. The obtained result won't be the total profits generated by one genre but the total profit of all movies continaing this genre.   \n",
    "As the following questions need a similar function, we can write it so that it is applicable on other features like cast, director and production companies."
   ]
  },
  {
   "cell_type": "code",
   "execution_count": 78,
   "metadata": {},
   "outputs": [
    {
     "data": {
      "text/html": [
       "<div>\n",
       "<style scoped>\n",
       "    .dataframe tbody tr th:only-of-type {\n",
       "        vertical-align: middle;\n",
       "    }\n",
       "\n",
       "    .dataframe tbody tr th {\n",
       "        vertical-align: top;\n",
       "    }\n",
       "\n",
       "    .dataframe thead th {\n",
       "        text-align: right;\n",
       "    }\n",
       "</style>\n",
       "<table border=\"1\" class=\"dataframe\">\n",
       "  <thead>\n",
       "    <tr style=\"text-align: right;\">\n",
       "      <th></th>\n",
       "      <th>nb_movies</th>\n",
       "      <th>sum_profit_adj</th>\n",
       "    </tr>\n",
       "    <tr>\n",
       "      <th>genres</th>\n",
       "      <th></th>\n",
       "      <th></th>\n",
       "    </tr>\n",
       "  </thead>\n",
       "  <tbody>\n",
       "    <tr>\n",
       "      <th>Adventure</th>\n",
       "      <td>746</td>\n",
       "      <td>142194666495</td>\n",
       "    </tr>\n",
       "    <tr>\n",
       "      <th>Action</th>\n",
       "      <td>1078</td>\n",
       "      <td>139676678190</td>\n",
       "    </tr>\n",
       "    <tr>\n",
       "      <th>Drama</th>\n",
       "      <td>1747</td>\n",
       "      <td>116820507371</td>\n",
       "    </tr>\n",
       "    <tr>\n",
       "      <th>Comedy</th>\n",
       "      <td>1347</td>\n",
       "      <td>111519336242</td>\n",
       "    </tr>\n",
       "    <tr>\n",
       "      <th>Thriller</th>\n",
       "      <td>1197</td>\n",
       "      <td>100603648248</td>\n",
       "    </tr>\n",
       "  </tbody>\n",
       "</table>\n",
       "</div>"
      ],
      "text/plain": [
       "           nb_movies  sum_profit_adj\n",
       "genres                              \n",
       "Adventure        746    142194666495\n",
       "Action          1078    139676678190\n",
       "Drama           1747    116820507371\n",
       "Comedy          1347    111519336242\n",
       "Thriller        1197    100603648248"
      ]
     },
     "execution_count": 78,
     "metadata": {},
     "output_type": "execute_result"
    }
   ],
   "source": [
    "# Function that generates a dataframe with the specified feature (genres, cast...), the movie count and the total profit\n",
    "def generate_profit_by_feature(dataframe, feature):\n",
    "    # Reseting the index so that the index corresponds to the row number\n",
    "    data = dataframe.reset_index()\n",
    "    \n",
    "    # Creating a set of unique str appearing in genres column\n",
    "    genres_list = set(np.hstack(data[feature]))\n",
    "    \n",
    "    # Storing the feature, movies count and total profit in a dataframe\n",
    "    global_list = []\n",
    "    for genre in genres_list:\n",
    "        count = 0          # variable to store the number of movies\n",
    "        total_profit = 0   # variable to store the sum of profits\n",
    "        row = 0            # variable to find the row (reset_index necessary)\n",
    "        for element in data[feature]:\n",
    "            if genre in element:\n",
    "                count += 1\n",
    "                total_profit += data['profit_adj'][row]\n",
    "            row += 1\n",
    "        global_list.append([genre, count, total_profit])\n",
    "    \n",
    "    return pd.DataFrame(global_list, columns = [feature, 'nb_movies', 'sum_profit_adj']).set_index(feature) \n",
    "\n",
    "# Applying the function on genres\n",
    "df_genres = generate_profit_by_feature(df, 'genres')\n",
    "df_genres.sort_values(['sum_profit_adj'], ascending = False).head()"
   ]
  },
  {
   "cell_type": "code",
   "execution_count": 87,
   "metadata": {},
   "outputs": [
    {
     "data": {
      "text/plain": [
       "Text(0.5, 1.0, 'Total profit generated by genre')"
      ]
     },
     "execution_count": 87,
     "metadata": {},
     "output_type": "execute_result"
    },
    {
     "data": {
      "image/png": "[encoded data removed]",
      "text/plain": [
       "<Figure size 720x576 with 1 Axes>"
      ]
     },
     "metadata": {},
     "output_type": "display_data"
    }
   ],
   "source": [
    "# Ploting the results\n",
    "df_genres['sum_profit_adj'].sort_values(ascending = False).head(8).plot(kind = 'barh', x = 'genres', color = \"r\", alpha = 0.8)\n",
    "# Graph displays\n",
    "plt.gca().invert_yaxis()\n",
    "plt.xlabel('Total profit (USD)', fontsize = 14)\n",
    "plt.ylabel('Movie genre', fontsize = 14)\n",
    "plt.title('Total profit generated by genre', fontsize = 14)"
   ]
  },
  {
   "cell_type": "markdown",
   "metadata": {},
   "source": [
    "**Adventure** and **action** are the genres that have generated the highest profits."
   ]
  },
  {
   "cell_type": "markdown",
   "metadata": {},
   "source": [
    "<a id='Q6'></a>\n",
    "## 6. Is there is a correlation between profits and number of movies for each genre ?\n",
    "\n",
    "We could see if there is a correlation between the mean profit by genre and the number of movies per genre."
   ]
  },
  {
   "cell_type": "code",
   "execution_count": 88,
   "metadata": {},
   "outputs": [
    {
     "data": {
      "text/plain": [
       "Text(0.5, 1.0, 'Total profit function of number of movies')"
      ]
     },
     "execution_count": 88,
     "metadata": {},
     "output_type": "execute_result"
    },
    {
     "data": {
      "image/png": "[encoded data removed]",
      "text/plain": [
       "<Figure size 720x576 with 1 Axes>"
      ]
     },
     "metadata": {},
     "output_type": "display_data"
    }
   ],
   "source": [
    "sns.regplot(x = df_genres['nb_movies'], y = df_genres['sum_profit_adj'], color = 'b')\n",
    "# Graph features\n",
    "plt.xlabel('Number of movies', fontsize = 14)\n",
    "plt.ylabel('Total profit (USD)', fontsize = 14)\n",
    "plt.title('Total profit function of number of movies', fontsize = 14)"
   ]
  },
  {
   "cell_type": "code",
   "execution_count": 81,
   "metadata": {},
   "outputs": [
    {
     "data": {
      "text/html": [
       "<div>\n",
       "<style scoped>\n",
       "    .dataframe tbody tr th:only-of-type {\n",
       "        vertical-align: middle;\n",
       "    }\n",
       "\n",
       "    .dataframe tbody tr th {\n",
       "        vertical-align: top;\n",
       "    }\n",
       "\n",
       "    .dataframe thead th {\n",
       "        text-align: right;\n",
       "    }\n",
       "</style>\n",
       "<table border=\"1\" class=\"dataframe\">\n",
       "  <thead>\n",
       "    <tr style=\"text-align: right;\">\n",
       "      <th></th>\n",
       "      <th>nb_movies</th>\n",
       "      <th>sum_profit_adj</th>\n",
       "    </tr>\n",
       "  </thead>\n",
       "  <tbody>\n",
       "    <tr>\n",
       "      <th>nb_movies</th>\n",
       "      <td>1.000000</td>\n",
       "      <td>0.852169</td>\n",
       "    </tr>\n",
       "    <tr>\n",
       "      <th>sum_profit_adj</th>\n",
       "      <td>0.852169</td>\n",
       "      <td>1.000000</td>\n",
       "    </tr>\n",
       "  </tbody>\n",
       "</table>\n",
       "</div>"
      ],
      "text/plain": [
       "                nb_movies  sum_profit_adj\n",
       "nb_movies        1.000000        0.852169\n",
       "sum_profit_adj   0.852169        1.000000"
      ]
     },
     "execution_count": 81,
     "metadata": {},
     "output_type": "execute_result"
    }
   ],
   "source": [
    "# Calculating the Pearson's r.\n",
    "df_genres.corr()"
   ]
  },
  {
   "cell_type": "markdown",
   "metadata": {},
   "source": [
    "**There seems to be a correlation between number of movies per genre and mean profit per genre**. This is not surprising as, for a specific genre, the more movies are made, the more is the profit obtained. However, **Adventure** movies seem to have a better ratio total profit / number of movies."
   ]
  },
  {
   "cell_type": "markdown",
   "metadata": {},
   "source": [
    "<a id='Q7'></a>\n",
    "## 7. What are the casts, directors and production companies the most profitable ?\n",
    "\n",
    "To answer this question, we can re-use the function we have written for the genres analysis.\n",
    "\n",
    "##### **TOP Performers**"
   ]
  },
  {
   "cell_type": "code",
   "execution_count": 83,
   "metadata": {},
   "outputs": [
    {
     "data": {
      "text/html": [
       "<div>\n",
       "<style scoped>\n",
       "    .dataframe tbody tr th:only-of-type {\n",
       "        vertical-align: middle;\n",
       "    }\n",
       "\n",
       "    .dataframe tbody tr th {\n",
       "        vertical-align: top;\n",
       "    }\n",
       "\n",
       "    .dataframe thead th {\n",
       "        text-align: right;\n",
       "    }\n",
       "</style>\n",
       "<table border=\"1\" class=\"dataframe\">\n",
       "  <thead>\n",
       "    <tr style=\"text-align: right;\">\n",
       "      <th></th>\n",
       "      <th>nb_movies</th>\n",
       "      <th>sum_profit_adj</th>\n",
       "    </tr>\n",
       "    <tr>\n",
       "      <th>cast</th>\n",
       "      <th></th>\n",
       "      <th></th>\n",
       "    </tr>\n",
       "  </thead>\n",
       "  <tbody>\n",
       "    <tr>\n",
       "      <th>Harrison Ford</th>\n",
       "      <td>34</td>\n",
       "      <td>11808415332</td>\n",
       "    </tr>\n",
       "    <tr>\n",
       "      <th>Tom Cruise</th>\n",
       "      <td>33</td>\n",
       "      <td>8361768620</td>\n",
       "    </tr>\n",
       "    <tr>\n",
       "      <th>Tom Hanks</th>\n",
       "      <td>34</td>\n",
       "      <td>8079464501</td>\n",
       "    </tr>\n",
       "    <tr>\n",
       "      <th>Carrie Fisher</th>\n",
       "      <td>7</td>\n",
       "      <td>7263715470</td>\n",
       "    </tr>\n",
       "    <tr>\n",
       "      <th>Emma Watson</th>\n",
       "      <td>12</td>\n",
       "      <td>7212039540</td>\n",
       "    </tr>\n",
       "    <tr>\n",
       "      <th>Daniel Radcliffe</th>\n",
       "      <td>12</td>\n",
       "      <td>7071883859</td>\n",
       "    </tr>\n",
       "    <tr>\n",
       "      <th>Mark Hamill</th>\n",
       "      <td>5</td>\n",
       "      <td>7028274588</td>\n",
       "    </tr>\n",
       "    <tr>\n",
       "      <th>Rupert Grint</th>\n",
       "      <td>9</td>\n",
       "      <td>6974591013</td>\n",
       "    </tr>\n",
       "  </tbody>\n",
       "</table>\n",
       "</div>"
      ],
      "text/plain": [
       "                  nb_movies  sum_profit_adj\n",
       "cast                                       \n",
       "Harrison Ford            34     11808415332\n",
       "Tom Cruise               33      8361768620\n",
       "Tom Hanks                34      8079464501\n",
       "Carrie Fisher             7      7263715470\n",
       "Emma Watson              12      7212039540\n",
       "Daniel Radcliffe         12      7071883859\n",
       "Mark Hamill               5      7028274588\n",
       "Rupert Grint              9      6974591013"
      ]
     },
     "execution_count": 83,
     "metadata": {},
     "output_type": "execute_result"
    }
   ],
   "source": [
    "df_cast = generate_profit_by_feature(df, 'cast')\n",
    "df_cast.sort_values(['sum_profit_adj'], ascending = False).head(8)"
   ]
  },
  {
   "cell_type": "markdown",
   "metadata": {},
   "source": [
    "The most profitable actor (based on the total profit of the movie he played in) is **Harrison Ford**. We can see that the most appearing performer is not necessarilt the one who cumulated the highest profit movies. Carrie Fischer for instance, despite of the low number of movies she played in, is in 4th position in our classification. This is most likely due to her role in Star Wars which is the most profitable movie when accouting for USD inflation.\n",
    "\n",
    "##### **TOP Directors**"
   ]
  },
  {
   "cell_type": "code",
   "execution_count": 84,
   "metadata": {},
   "outputs": [
    {
     "data": {
      "text/html": [
       "<div>\n",
       "<style scoped>\n",
       "    .dataframe tbody tr th:only-of-type {\n",
       "        vertical-align: middle;\n",
       "    }\n",
       "\n",
       "    .dataframe tbody tr th {\n",
       "        vertical-align: top;\n",
       "    }\n",
       "\n",
       "    .dataframe thead th {\n",
       "        text-align: right;\n",
       "    }\n",
       "</style>\n",
       "<table border=\"1\" class=\"dataframe\">\n",
       "  <thead>\n",
       "    <tr style=\"text-align: right;\">\n",
       "      <th></th>\n",
       "      <th>nb_movies</th>\n",
       "      <th>sum_profit_adj</th>\n",
       "    </tr>\n",
       "    <tr>\n",
       "      <th>director</th>\n",
       "      <th></th>\n",
       "      <th></th>\n",
       "    </tr>\n",
       "  </thead>\n",
       "  <tbody>\n",
       "    <tr>\n",
       "      <th>Steven Spielberg</th>\n",
       "      <td>28</td>\n",
       "      <td>13168609363</td>\n",
       "    </tr>\n",
       "    <tr>\n",
       "      <th>James Cameron</th>\n",
       "      <td>8</td>\n",
       "      <td>6296578359</td>\n",
       "    </tr>\n",
       "    <tr>\n",
       "      <th>George Lucas</th>\n",
       "      <td>6</td>\n",
       "      <td>5844159209</td>\n",
       "    </tr>\n",
       "    <tr>\n",
       "      <th>Peter Jackson</th>\n",
       "      <td>11</td>\n",
       "      <td>5645491691</td>\n",
       "    </tr>\n",
       "    <tr>\n",
       "      <th>Robert Zemeckis</th>\n",
       "      <td>15</td>\n",
       "      <td>4335995167</td>\n",
       "    </tr>\n",
       "    <tr>\n",
       "      <th>Chris Columbus</th>\n",
       "      <td>9</td>\n",
       "      <td>4171046474</td>\n",
       "    </tr>\n",
       "    <tr>\n",
       "      <th>Michael Bay</th>\n",
       "      <td>11</td>\n",
       "      <td>3958675887</td>\n",
       "    </tr>\n",
       "    <tr>\n",
       "      <th>Wolfgang Reitherman</th>\n",
       "      <td>5</td>\n",
       "      <td>3490935372</td>\n",
       "    </tr>\n",
       "  </tbody>\n",
       "</table>\n",
       "</div>"
      ],
      "text/plain": [
       "                     nb_movies  sum_profit_adj\n",
       "director                                      \n",
       "Steven Spielberg            28     13168609363\n",
       "James Cameron                8      6296578359\n",
       "George Lucas                 6      5844159209\n",
       "Peter Jackson               11      5645491691\n",
       "Robert Zemeckis             15      4335995167\n",
       "Chris Columbus               9      4171046474\n",
       "Michael Bay                 11      3958675887\n",
       "Wolfgang Reitherman          5      3490935372"
      ]
     },
     "execution_count": 84,
     "metadata": {},
     "output_type": "execute_result"
    }
   ],
   "source": [
    "df_dir = generate_profit_by_feature(df, 'director')\n",
    "df_dir.sort_values(['sum_profit_adj'], ascending = False).head(8)"
   ]
  },
  {
   "cell_type": "markdown",
   "metadata": {},
   "source": [
    "The most profitable director (based on the total profit of the movie he directed) is **Steven Spielberg**. As for cast, there are some directors such as James Cameron or Georges Lucas who directed few movies but high profitable ones. \n",
    "##### **TOP Production companies**"
   ]
  },
  {
   "cell_type": "code",
   "execution_count": 85,
   "metadata": {},
   "outputs": [
    {
     "data": {
      "text/html": [
       "<div>\n",
       "<style scoped>\n",
       "    .dataframe tbody tr th:only-of-type {\n",
       "        vertical-align: middle;\n",
       "    }\n",
       "\n",
       "    .dataframe tbody tr th {\n",
       "        vertical-align: top;\n",
       "    }\n",
       "\n",
       "    .dataframe thead th {\n",
       "        text-align: right;\n",
       "    }\n",
       "</style>\n",
       "<table border=\"1\" class=\"dataframe\">\n",
       "  <thead>\n",
       "    <tr style=\"text-align: right;\">\n",
       "      <th></th>\n",
       "      <th>nb_movies</th>\n",
       "      <th>sum_profit_adj</th>\n",
       "    </tr>\n",
       "    <tr>\n",
       "      <th>production_companies</th>\n",
       "      <th></th>\n",
       "      <th></th>\n",
       "    </tr>\n",
       "  </thead>\n",
       "  <tbody>\n",
       "    <tr>\n",
       "      <th>Warner Bros.</th>\n",
       "      <td>324</td>\n",
       "      <td>43922987911</td>\n",
       "    </tr>\n",
       "    <tr>\n",
       "      <th>Universal Pictures</th>\n",
       "      <td>327</td>\n",
       "      <td>42605603101</td>\n",
       "    </tr>\n",
       "    <tr>\n",
       "      <th>Paramount Pictures</th>\n",
       "      <td>266</td>\n",
       "      <td>38105201171</td>\n",
       "    </tr>\n",
       "    <tr>\n",
       "      <th>Twentieth Century Fox Film Corporation</th>\n",
       "      <td>201</td>\n",
       "      <td>37751899669</td>\n",
       "    </tr>\n",
       "    <tr>\n",
       "      <th>Walt Disney Pictures</th>\n",
       "      <td>117</td>\n",
       "      <td>25554287266</td>\n",
       "    </tr>\n",
       "    <tr>\n",
       "      <th>Columbia Pictures</th>\n",
       "      <td>178</td>\n",
       "      <td>20317010538</td>\n",
       "    </tr>\n",
       "    <tr>\n",
       "      <th>Amblin Entertainment</th>\n",
       "      <td>50</td>\n",
       "      <td>16390766869</td>\n",
       "    </tr>\n",
       "    <tr>\n",
       "      <th>New Line Cinema</th>\n",
       "      <td>150</td>\n",
       "      <td>15912625108</td>\n",
       "    </tr>\n",
       "  </tbody>\n",
       "</table>\n",
       "</div>"
      ],
      "text/plain": [
       "                                        nb_movies  sum_profit_adj\n",
       "production_companies                                             \n",
       "Warner Bros.                                  324     43922987911\n",
       "Universal Pictures                            327     42605603101\n",
       "Paramount Pictures                            266     38105201171\n",
       "Twentieth Century Fox Film Corporation        201     37751899669\n",
       "Walt Disney Pictures                          117     25554287266\n",
       "Columbia Pictures                             178     20317010538\n",
       "Amblin Entertainment                           50     16390766869\n",
       "New Line Cinema                               150     15912625108"
      ]
     },
     "execution_count": 85,
     "metadata": {},
     "output_type": "execute_result"
    }
   ],
   "source": [
    "df_prod = generate_profit_by_feature(df, 'production_companies')\n",
    "df_prod.sort_values(['sum_profit_adj'], ascending = False).head(8)"
   ]
  },
  {
   "cell_type": "markdown",
   "metadata": {},
   "source": [
    "The most profitable production companies (based on the total profit of the movie it produced) is **Warner Bros**. "
   ]
  },
  {
   "cell_type": "markdown",
   "metadata": {},
   "source": [
    "<a id='conclusions'></a>\n",
    "## Conclusions\n",
    "\n",
    "#### **Answers to research questions:**\n",
    "\n",
    "<li><a href=\"#Q1\">1. What are the most and the least profitable movies ?</a></li>\n",
    "\n",
    "The most profitable movie is **Star wars** followed by **Avatar** and **Titanic**. The **Warrior's way** is the least profitable movie.\n",
    "\n",
    "<li><a href=\"#Q2\">2. What is the distribution of all movies profits ?</a></li>\n",
    "\n",
    "We can see that the distribution is **positively skewed** with a steep slope.\n",
    "\n",
    "<li><a href=\"#Q3\">3. Are the most profitable movies also the better rated ?</a></li>\n",
    "\n",
    "The **correlation between profit and popularity is not high**. The correlation between profit and vote average is even poorer. That seems to indicate that the most profitable movies are not necessarily the best rated.    \n",
    "Furthermore, there is a slight correlation between profit and vote count and between popularity and vote count (but no real correlation between vote average and vote count).\n",
    "\n",
    "<li><a href=\"#Q4\">4. During which months are the most profitable movies released ?</a></li>\n",
    "\n",
    "The most profitable movies are released **before summer** and at the **end of the year**.\n",
    "\n",
    "<li><a href=\"#Q5\">5. What are the genres that generated the most profits ?</a></li>\n",
    "\n",
    "**Adventure** and **action** are the genres that have generated the highest profits.\n",
    "\n",
    "<li><a href=\"#Q6\">6. Is there is a correlation between profit and number of movies for each genre ?</a></li>\n",
    "\n",
    "Their seems to be a correlation between number of movies per genre and mean profit per genre. **Adventure** movies have a better ratio between total profit and number of movies.\n",
    "\n",
    "<li><a href=\"#Q7\">7. What are the casts, directors and production companies which have generated the most profits ?</a></li>\n",
    "\n",
    "The most profitable actor (based on the total profit of the movie he played in) is **Harrison Ford**. The most appearing cast is not the one who cumulated the highest profit movies. There are some actors/actresses who played in few movies but high profitable ones.\n",
    "\n",
    "The most profitable director (based on the total profit of the movie he directed) is **Steven Spielberg**. As for cast, there are some directors such as James Cameron or Georges Lucas who directed few movies but high profitable ones.   \n",
    "\n",
    "The most profitable production companies (based on the total profit of the movie it produced) is **Warner Bros**.\n",
    "\n",
    "#### **Limitations:**\n",
    "\n",
    "- The missing budget, revenue and the outliers points represent more than half of the dataset rows. Although the remaining data were sufficient to conduct our analysis, we might have missed some information.\n",
    "- We don't have information on how the revenue is calculated. Does it take into account the cinema entries only or does it take also the by-products ? \n",
    "- In the same way, we don't know if the budget include, for example, advertising or copyright purchase.\n",
    "- A lot of movies have several genres, performers, directors and production companies. The profit made by one movie cannot be considered equally distributed on all performers. It is then not really accurate to find the most profitable features per movie.\n",
    "- We don't really know ho the popularity and vote average are determined.\n",
    "\n",
    "#### **References:**\n",
    "\n",
    "https://www.kaggle.com/tmdb/tmdb-movie-metadata\n",
    "\n",
    "https://pandas.pydata.org/pandas-docs/stable/reference/\n",
    "\n",
    "https://seaborn.pydata.org/\n",
    "\n",
    "https://matplotlib.org/\n",
    "\n",
    "https://en.wikipedia.org/wiki/Low-budget_film \n",
    "\n",
    "https://stackoverflow.com/"
   ]
  }
 ],
 "metadata": {
  "kernelspec": {
   "display_name": "Python 3",
   "language": "python",
   "name": "python3"
  },
  "language_info": {
   "codemirror_mode": {
    "name": "ipython",
    "version": 3
   },
   "file_extension": ".py",
   "mimetype": "text/x-python",
   "name": "python",
   "nbconvert_exporter": "python",
   "pygments_lexer": "ipython3",
   "version": "3.6.9"
  }
 },
 "nbformat": 4,
 "nbformat_minor": 4
}
